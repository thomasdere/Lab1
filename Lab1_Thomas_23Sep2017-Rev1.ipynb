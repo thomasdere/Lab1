{
 "cells": [
  {
   "cell_type": "markdown",
   "metadata": {},
   "source": [
    "# Welcome to Lab Session 1 - Derek Thomas - 23Sep2017 - Revision 1"
   ]
  },
  {
   "cell_type": "markdown",
   "metadata": {},
   "source": [
    "## Define the environment for the Dataframe"
   ]
  },
  {
   "cell_type": "code",
   "execution_count": 1,
   "metadata": {
    "ExecuteTime": {
     "end_time": "2017-09-24T18:45:02.520151Z",
     "start_time": "2017-09-24T18:44:58.709846Z"
    }
   },
   "outputs": [],
   "source": [
    "import pandas as pd"
   ]
  },
  {
   "cell_type": "markdown",
   "metadata": {
    "ExecuteTime": {
     "end_time": "2017-09-23T13:35:42.618725Z",
     "start_time": "2017-09-23T13:35:42.615218Z"
    }
   },
   "source": [
    "## Import the Dataframe and parse relevant columns"
   ]
  },
  {
   "cell_type": "code",
   "execution_count": 10,
   "metadata": {
    "ExecuteTime": {
     "end_time": "2017-09-24T20:04:45.717967Z",
     "start_time": "2017-09-24T20:04:45.296554Z"
    }
   },
   "outputs": [],
   "source": [
    "df = pd.read_excel('Information is Beautiful_ Data Breaches (public).xlsx', header=1, sheetname='2017 update',parse_cols=('A:G,I:J,O'))"
   ]
  },
  {
   "cell_type": "code",
   "execution_count": 11,
   "metadata": {
    "ExecuteTime": {
     "end_time": "2017-09-24T20:04:53.701684Z",
     "start_time": "2017-09-24T20:04:53.659946Z"
    }
   },
   "outputs": [
    {
     "data": {
      "text/html": [
       "<div>\n",
       "<style>\n",
       "    .dataframe thead tr:only-child th {\n",
       "        text-align: right;\n",
       "    }\n",
       "\n",
       "    .dataframe thead th {\n",
       "        text-align: left;\n",
       "    }\n",
       "\n",
       "    .dataframe tbody tr th {\n",
       "        vertical-align: top;\n",
       "    }\n",
       "</style>\n",
       "<table border=\"1\" class=\"dataframe\">\n",
       "  <thead>\n",
       "    <tr style=\"text-align: right;\">\n",
       "      <th></th>\n",
       "      <th>Entity</th>\n",
       "      <th>alternative name</th>\n",
       "      <th>story</th>\n",
       "      <th>YEAR</th>\n",
       "      <th>records lost</th>\n",
       "      <th>ORGANISATION</th>\n",
       "      <th>METHOD OF LEAK</th>\n",
       "      <th>NO OF RECORDS STOLEN</th>\n",
       "      <th>DATA SENSITIVITY</th>\n",
       "      <th>1st source link</th>\n",
       "    </tr>\n",
       "  </thead>\n",
       "  <tbody>\n",
       "    <tr>\n",
       "      <th>0</th>\n",
       "      <td>NaN</td>\n",
       "      <td>NaN</td>\n",
       "      <td>Elaboration if there's an interesting story or...</td>\n",
       "      <td>years are encoded (0=2004, 8 = 2012, 9 = 2013,...</td>\n",
       "      <td>(use 3m, 4m, 5m or 10m to approximate unknown ...</td>\n",
       "      <td>NaN</td>\n",
       "      <td>NaN</td>\n",
       "      <td>(use 3m, 4m, 5m or 10m to approximate unknown ...</td>\n",
       "      <td>1. Just email address/Online information 20 SS...</td>\n",
       "      <td>NaN</td>\n",
       "    </tr>\n",
       "    <tr>\n",
       "      <th>1</th>\n",
       "      <td>AOL</td>\n",
       "      <td>American Online</td>\n",
       "      <td>A former America Online software engineer stol...</td>\n",
       "      <td>0</td>\n",
       "      <td>92000000</td>\n",
       "      <td>web</td>\n",
       "      <td>inside job</td>\n",
       "      <td>92000000</td>\n",
       "      <td>1</td>\n",
       "      <td>http://money.cnn.com/2004/06/23/technology/aol...</td>\n",
       "    </tr>\n",
       "    <tr>\n",
       "      <th>2</th>\n",
       "      <td>Automatic Data Processing</td>\n",
       "      <td>Business outsourcing, payrolls, benefits</td>\n",
       "      <td>NaN</td>\n",
       "      <td>1</td>\n",
       "      <td>125000</td>\n",
       "      <td>financial</td>\n",
       "      <td>poor security</td>\n",
       "      <td>130000</td>\n",
       "      <td>20</td>\n",
       "      <td>http://abcnews.go.com/Technology/story?id=2160...</td>\n",
       "    </tr>\n",
       "    <tr>\n",
       "      <th>3</th>\n",
       "      <td>Ameritrade Inc.</td>\n",
       "      <td>Computer backup tape containing personal infor...</td>\n",
       "      <td>online broker</td>\n",
       "      <td>1</td>\n",
       "      <td>200000</td>\n",
       "      <td>financial</td>\n",
       "      <td>lost / stolen device</td>\n",
       "      <td>200000</td>\n",
       "      <td>20</td>\n",
       "      <td>http://www.nbcnews.com/id/7561268/</td>\n",
       "    </tr>\n",
       "  </tbody>\n",
       "</table>\n",
       "</div>"
      ],
      "text/plain": [
       "                      Entity  \\\n",
       "0                        NaN   \n",
       "1                        AOL   \n",
       "2  Automatic Data Processing   \n",
       "3            Ameritrade Inc.   \n",
       "\n",
       "                                    alternative name  \\\n",
       "0                                                NaN   \n",
       "1                                    American Online   \n",
       "2           Business outsourcing, payrolls, benefits   \n",
       "3  Computer backup tape containing personal infor...   \n",
       "\n",
       "                                               story  \\\n",
       "0  Elaboration if there's an interesting story or...   \n",
       "1  A former America Online software engineer stol...   \n",
       "2                                                NaN   \n",
       "3                                      online broker   \n",
       "\n",
       "                                                YEAR  \\\n",
       "0  years are encoded (0=2004, 8 = 2012, 9 = 2013,...   \n",
       "1                                                  0   \n",
       "2                                                  1   \n",
       "3                                                  1   \n",
       "\n",
       "                                        records lost ORGANISATION  \\\n",
       "0  (use 3m, 4m, 5m or 10m to approximate unknown ...          NaN   \n",
       "1                                           92000000          web   \n",
       "2                                             125000    financial   \n",
       "3                                             200000    financial   \n",
       "\n",
       "         METHOD OF LEAK                               NO OF RECORDS STOLEN  \\\n",
       "0                   NaN  (use 3m, 4m, 5m or 10m to approximate unknown ...   \n",
       "1            inside job                                           92000000   \n",
       "2         poor security                                             130000   \n",
       "3  lost / stolen device                                             200000   \n",
       "\n",
       "                                    DATA SENSITIVITY  \\\n",
       "0  1. Just email address/Online information 20 SS...   \n",
       "1                                                  1   \n",
       "2                                                 20   \n",
       "3                                                 20   \n",
       "\n",
       "                                     1st source link  \n",
       "0                                                NaN  \n",
       "1  http://money.cnn.com/2004/06/23/technology/aol...  \n",
       "2  http://abcnews.go.com/Technology/story?id=2160...  \n",
       "3                 http://www.nbcnews.com/id/7561268/  "
      ]
     },
     "execution_count": 11,
     "metadata": {},
     "output_type": "execute_result"
    }
   ],
   "source": [
    "df.head(4)"
   ]
  },
  {
   "cell_type": "markdown",
   "metadata": {},
   "source": [
    "## Delete irrelevant narrartive row"
   ]
  },
  {
   "cell_type": "code",
   "execution_count": 43,
   "metadata": {
    "ExecuteTime": {
     "end_time": "2017-09-24T21:39:01.397943Z",
     "start_time": "2017-09-24T21:39:01.391243Z"
    },
    "scrolled": false
   },
   "outputs": [],
   "source": [
    "df2 = df.drop(df.index[0])"
   ]
  },
  {
   "cell_type": "markdown",
   "metadata": {},
   "source": [
    "## Analyze data contents and characteristics"
   ]
  },
  {
   "cell_type": "code",
   "execution_count": 44,
   "metadata": {
    "ExecuteTime": {
     "end_time": "2017-09-24T21:39:13.466765Z",
     "start_time": "2017-09-24T21:39:13.447670Z"
    }
   },
   "outputs": [
    {
     "data": {
      "text/plain": [
       "(253, 10)"
      ]
     },
     "execution_count": 44,
     "metadata": {},
     "output_type": "execute_result"
    }
   ],
   "source": [
    "df2.shape"
   ]
  },
  {
   "cell_type": "code",
   "execution_count": 45,
   "metadata": {
    "ExecuteTime": {
     "end_time": "2017-09-24T21:39:23.754522Z",
     "start_time": "2017-09-24T21:39:23.661058Z"
    }
   },
   "outputs": [
    {
     "data": {
      "text/html": [
       "<div>\n",
       "<style>\n",
       "    .dataframe thead tr:only-child th {\n",
       "        text-align: right;\n",
       "    }\n",
       "\n",
       "    .dataframe thead th {\n",
       "        text-align: left;\n",
       "    }\n",
       "\n",
       "    .dataframe tbody tr th {\n",
       "        vertical-align: top;\n",
       "    }\n",
       "</style>\n",
       "<table border=\"1\" class=\"dataframe\">\n",
       "  <thead>\n",
       "    <tr style=\"text-align: right;\">\n",
       "      <th></th>\n",
       "      <th>entity</th>\n",
       "      <th>altName</th>\n",
       "      <th>story</th>\n",
       "      <th>yearIndex</th>\n",
       "      <th>recordsLost</th>\n",
       "      <th>orgType</th>\n",
       "      <th>leakMethod</th>\n",
       "      <th>recordsStolen</th>\n",
       "      <th>dataSensitivity</th>\n",
       "      <th>sourceLink</th>\n",
       "    </tr>\n",
       "  </thead>\n",
       "  <tbody>\n",
       "    <tr>\n",
       "      <th>count</th>\n",
       "      <td>253</td>\n",
       "      <td>118</td>\n",
       "      <td>217</td>\n",
       "      <td>253</td>\n",
       "      <td>251</td>\n",
       "      <td>253</td>\n",
       "      <td>253</td>\n",
       "      <td>253</td>\n",
       "      <td>253</td>\n",
       "      <td>253</td>\n",
       "    </tr>\n",
       "    <tr>\n",
       "      <th>unique</th>\n",
       "      <td>241</td>\n",
       "      <td>117</td>\n",
       "      <td>215</td>\n",
       "      <td>15</td>\n",
       "      <td>177</td>\n",
       "      <td>23</td>\n",
       "      <td>6</td>\n",
       "      <td>132</td>\n",
       "      <td>8</td>\n",
       "      <td>213</td>\n",
       "    </tr>\n",
       "    <tr>\n",
       "      <th>top</th>\n",
       "      <td>Yahoo</td>\n",
       "      <td>American Online</td>\n",
       "      <td>Wikileaks</td>\n",
       "      <td>7</td>\n",
       "      <td>4000000</td>\n",
       "      <td>web</td>\n",
       "      <td>hacked</td>\n",
       "      <td>500000</td>\n",
       "      <td>20</td>\n",
       "      <td>http://www.idtheftcenter.org/artman2/publish/l...</td>\n",
       "    </tr>\n",
       "    <tr>\n",
       "      <th>freq</th>\n",
       "      <td>3</td>\n",
       "      <td>2</td>\n",
       "      <td>3</td>\n",
       "      <td>35</td>\n",
       "      <td>6</td>\n",
       "      <td>70</td>\n",
       "      <td>155</td>\n",
       "      <td>11</td>\n",
       "      <td>85</td>\n",
       "      <td>31</td>\n",
       "    </tr>\n",
       "  </tbody>\n",
       "</table>\n",
       "</div>"
      ],
      "text/plain": [
       "       entity          altName      story  yearIndex  recordsLost orgType  \\\n",
       "count     253              118        217        253          251     253   \n",
       "unique    241              117        215         15          177      23   \n",
       "top     Yahoo  American Online  Wikileaks          7      4000000     web   \n",
       "freq        3                2          3         35            6      70   \n",
       "\n",
       "       leakMethod  recordsStolen  dataSensitivity  \\\n",
       "count         253            253              253   \n",
       "unique          6            132                8   \n",
       "top        hacked         500000               20   \n",
       "freq          155             11               85   \n",
       "\n",
       "                                               sourceLink  \n",
       "count                                                 253  \n",
       "unique                                                213  \n",
       "top     http://www.idtheftcenter.org/artman2/publish/l...  \n",
       "freq                                                   31  "
      ]
     },
     "execution_count": 45,
     "metadata": {},
     "output_type": "execute_result"
    }
   ],
   "source": [
    "df2.describe()"
   ]
  },
  {
   "cell_type": "code",
   "execution_count": 46,
   "metadata": {
    "ExecuteTime": {
     "end_time": "2017-09-24T21:39:29.714220Z",
     "start_time": "2017-09-24T21:39:29.702650Z"
    }
   },
   "outputs": [
    {
     "data": {
      "text/plain": [
       "entity             object\n",
       "altName            object\n",
       "story              object\n",
       "yearIndex          object\n",
       "recordsLost        object\n",
       "orgType            object\n",
       "leakMethod         object\n",
       "recordsStolen      object\n",
       "dataSensitivity    object\n",
       "sourceLink         object\n",
       "dtype: object"
      ]
     },
     "execution_count": 46,
     "metadata": {},
     "output_type": "execute_result"
    }
   ],
   "source": [
    "df2.dtypes"
   ]
  },
  {
   "cell_type": "markdown",
   "metadata": {},
   "source": [
    "## Modify column names"
   ]
  },
  {
   "cell_type": "code",
   "execution_count": 47,
   "metadata": {
    "ExecuteTime": {
     "end_time": "2017-09-24T21:39:38.794926Z",
     "start_time": "2017-09-24T21:39:38.788664Z"
    }
   },
   "outputs": [],
   "source": [
    "df2.columns=['entity',\\\n",
    "            'altName',\\\n",
    "            'story',\\\n",
    "            'yearIndex',\\\n",
    "            'recordsLost',\\\n",
    "            'orgType',\\\n",
    "            'leakMethod',\\\n",
    "            'recordsStolen',\\\n",
    "            'dataSensitivity',\\\n",
    "            'sourceLink']"
   ]
  },
  {
   "cell_type": "code",
   "execution_count": 48,
   "metadata": {
    "ExecuteTime": {
     "end_time": "2017-09-24T21:39:43.985021Z",
     "start_time": "2017-09-24T21:39:43.972605Z"
    }
   },
   "outputs": [
    {
     "data": {
      "text/plain": [
       "entity             object\n",
       "altName            object\n",
       "story              object\n",
       "yearIndex          object\n",
       "recordsLost        object\n",
       "orgType            object\n",
       "leakMethod         object\n",
       "recordsStolen      object\n",
       "dataSensitivity    object\n",
       "sourceLink         object\n",
       "dtype: object"
      ]
     },
     "execution_count": 48,
     "metadata": {},
     "output_type": "execute_result"
    }
   ],
   "source": [
    "df2.dtypes"
   ]
  },
  {
   "cell_type": "code",
   "execution_count": 49,
   "metadata": {
    "ExecuteTime": {
     "end_time": "2017-09-24T21:39:49.291542Z",
     "start_time": "2017-09-24T21:39:49.244686Z"
    }
   },
   "outputs": [
    {
     "data": {
      "text/html": [
       "<div>\n",
       "<style>\n",
       "    .dataframe thead tr:only-child th {\n",
       "        text-align: right;\n",
       "    }\n",
       "\n",
       "    .dataframe thead th {\n",
       "        text-align: left;\n",
       "    }\n",
       "\n",
       "    .dataframe tbody tr th {\n",
       "        vertical-align: top;\n",
       "    }\n",
       "</style>\n",
       "<table border=\"1\" class=\"dataframe\">\n",
       "  <thead>\n",
       "    <tr style=\"text-align: right;\">\n",
       "      <th></th>\n",
       "      <th>entity</th>\n",
       "      <th>altName</th>\n",
       "      <th>story</th>\n",
       "      <th>yearIndex</th>\n",
       "      <th>recordsLost</th>\n",
       "      <th>orgType</th>\n",
       "      <th>leakMethod</th>\n",
       "      <th>recordsStolen</th>\n",
       "      <th>dataSensitivity</th>\n",
       "      <th>sourceLink</th>\n",
       "    </tr>\n",
       "  </thead>\n",
       "  <tbody>\n",
       "    <tr>\n",
       "      <th>1</th>\n",
       "      <td>AOL</td>\n",
       "      <td>American Online</td>\n",
       "      <td>A former America Online software engineer stol...</td>\n",
       "      <td>0</td>\n",
       "      <td>92000000</td>\n",
       "      <td>web</td>\n",
       "      <td>inside job</td>\n",
       "      <td>92000000</td>\n",
       "      <td>1</td>\n",
       "      <td>http://money.cnn.com/2004/06/23/technology/aol...</td>\n",
       "    </tr>\n",
       "    <tr>\n",
       "      <th>2</th>\n",
       "      <td>Automatic Data Processing</td>\n",
       "      <td>Business outsourcing, payrolls, benefits</td>\n",
       "      <td>NaN</td>\n",
       "      <td>1</td>\n",
       "      <td>125000</td>\n",
       "      <td>financial</td>\n",
       "      <td>poor security</td>\n",
       "      <td>130000</td>\n",
       "      <td>20</td>\n",
       "      <td>http://abcnews.go.com/Technology/story?id=2160...</td>\n",
       "    </tr>\n",
       "    <tr>\n",
       "      <th>3</th>\n",
       "      <td>Ameritrade Inc.</td>\n",
       "      <td>Computer backup tape containing personal infor...</td>\n",
       "      <td>online broker</td>\n",
       "      <td>1</td>\n",
       "      <td>200000</td>\n",
       "      <td>financial</td>\n",
       "      <td>lost / stolen device</td>\n",
       "      <td>200000</td>\n",
       "      <td>20</td>\n",
       "      <td>http://www.nbcnews.com/id/7561268/</td>\n",
       "    </tr>\n",
       "    <tr>\n",
       "      <th>4</th>\n",
       "      <td>Citigroup</td>\n",
       "      <td>NaN</td>\n",
       "      <td>Blame the messenger! A box of computer tapes c...</td>\n",
       "      <td>1</td>\n",
       "      <td>3900000</td>\n",
       "      <td>financial</td>\n",
       "      <td>lost / stolen device</td>\n",
       "      <td>3900000</td>\n",
       "      <td>300</td>\n",
       "      <td>http://www.nytimes.com/2005/06/07/business/07d...</td>\n",
       "    </tr>\n",
       "  </tbody>\n",
       "</table>\n",
       "</div>"
      ],
      "text/plain": [
       "                      entity  \\\n",
       "1                        AOL   \n",
       "2  Automatic Data Processing   \n",
       "3            Ameritrade Inc.   \n",
       "4                  Citigroup   \n",
       "\n",
       "                                             altName  \\\n",
       "1                                    American Online   \n",
       "2           Business outsourcing, payrolls, benefits   \n",
       "3  Computer backup tape containing personal infor...   \n",
       "4                                                NaN   \n",
       "\n",
       "                                               story yearIndex recordsLost  \\\n",
       "1  A former America Online software engineer stol...         0    92000000   \n",
       "2                                                NaN         1      125000   \n",
       "3                                      online broker         1      200000   \n",
       "4  Blame the messenger! A box of computer tapes c...         1     3900000   \n",
       "\n",
       "     orgType            leakMethod recordsStolen dataSensitivity  \\\n",
       "1        web            inside job      92000000               1   \n",
       "2  financial         poor security        130000              20   \n",
       "3  financial  lost / stolen device        200000              20   \n",
       "4  financial  lost / stolen device       3900000             300   \n",
       "\n",
       "                                          sourceLink  \n",
       "1  http://money.cnn.com/2004/06/23/technology/aol...  \n",
       "2  http://abcnews.go.com/Technology/story?id=2160...  \n",
       "3                 http://www.nbcnews.com/id/7561268/  \n",
       "4  http://www.nytimes.com/2005/06/07/business/07d...  "
      ]
     },
     "execution_count": 49,
     "metadata": {},
     "output_type": "execute_result"
    }
   ],
   "source": [
    "df2.head(4)"
   ]
  },
  {
   "cell_type": "markdown",
   "metadata": {},
   "source": [
    "## Insert formatted Year column"
   ]
  },
  {
   "cell_type": "code",
   "execution_count": 57,
   "metadata": {
    "ExecuteTime": {
     "end_time": "2017-09-24T21:51:44.731777Z",
     "start_time": "2017-09-24T21:51:44.712260Z"
    }
   },
   "outputs": [
    {
     "data": {
      "text/plain": [
       "entity             object\n",
       "altName            object\n",
       "story              object\n",
       "yearIndex          object\n",
       "recordsLost        object\n",
       "orgType            object\n",
       "leakMethod         object\n",
       "recordsStolen      object\n",
       "dataSensitivity    object\n",
       "sourceLink         object\n",
       "yearOfBreach       object\n",
       "dtype: object"
      ]
     },
     "execution_count": 57,
     "metadata": {},
     "output_type": "execute_result"
    }
   ],
   "source": [
    "def ConvertYear(x):\n",
    "    if (x != '14'):\n",
    "        return str((int(x) + 2004))\n",
    "    else:\n",
    "        return ('2017')\n",
    "df3 = df2.copy()\n",
    "df3['yearOfBreach'] = df2.yearIndex.apply(ConvertYear)\n",
    "df3.dtypes"
   ]
  },
  {
   "cell_type": "code",
   "execution_count": 58,
   "metadata": {
    "ExecuteTime": {
     "end_time": "2017-09-24T21:52:14.771446Z",
     "start_time": "2017-09-24T21:52:14.669063Z"
    }
   },
   "outputs": [
    {
     "data": {
      "text/html": [
       "<div>\n",
       "<style>\n",
       "    .dataframe thead tr:only-child th {\n",
       "        text-align: right;\n",
       "    }\n",
       "\n",
       "    .dataframe thead th {\n",
       "        text-align: left;\n",
       "    }\n",
       "\n",
       "    .dataframe tbody tr th {\n",
       "        vertical-align: top;\n",
       "    }\n",
       "</style>\n",
       "<table border=\"1\" class=\"dataframe\">\n",
       "  <thead>\n",
       "    <tr style=\"text-align: right;\">\n",
       "      <th></th>\n",
       "      <th>entity</th>\n",
       "      <th>altName</th>\n",
       "      <th>story</th>\n",
       "      <th>yearIndex</th>\n",
       "      <th>recordsLost</th>\n",
       "      <th>orgType</th>\n",
       "      <th>leakMethod</th>\n",
       "      <th>recordsStolen</th>\n",
       "      <th>dataSensitivity</th>\n",
       "      <th>sourceLink</th>\n",
       "      <th>yearOfBreach</th>\n",
       "    </tr>\n",
       "  </thead>\n",
       "  <tbody>\n",
       "    <tr>\n",
       "      <th>1</th>\n",
       "      <td>AOL</td>\n",
       "      <td>American Online</td>\n",
       "      <td>A former America Online software engineer stol...</td>\n",
       "      <td>0</td>\n",
       "      <td>92000000</td>\n",
       "      <td>web</td>\n",
       "      <td>inside job</td>\n",
       "      <td>92000000</td>\n",
       "      <td>1</td>\n",
       "      <td>http://money.cnn.com/2004/06/23/technology/aol...</td>\n",
       "      <td>2004</td>\n",
       "    </tr>\n",
       "    <tr>\n",
       "      <th>2</th>\n",
       "      <td>Automatic Data Processing</td>\n",
       "      <td>Business outsourcing, payrolls, benefits</td>\n",
       "      <td>NaN</td>\n",
       "      <td>1</td>\n",
       "      <td>125000</td>\n",
       "      <td>financial</td>\n",
       "      <td>poor security</td>\n",
       "      <td>130000</td>\n",
       "      <td>20</td>\n",
       "      <td>http://abcnews.go.com/Technology/story?id=2160...</td>\n",
       "      <td>2005</td>\n",
       "    </tr>\n",
       "    <tr>\n",
       "      <th>3</th>\n",
       "      <td>Ameritrade Inc.</td>\n",
       "      <td>Computer backup tape containing personal infor...</td>\n",
       "      <td>online broker</td>\n",
       "      <td>1</td>\n",
       "      <td>200000</td>\n",
       "      <td>financial</td>\n",
       "      <td>lost / stolen device</td>\n",
       "      <td>200000</td>\n",
       "      <td>20</td>\n",
       "      <td>http://www.nbcnews.com/id/7561268/</td>\n",
       "      <td>2005</td>\n",
       "    </tr>\n",
       "    <tr>\n",
       "      <th>4</th>\n",
       "      <td>Citigroup</td>\n",
       "      <td>NaN</td>\n",
       "      <td>Blame the messenger! A box of computer tapes c...</td>\n",
       "      <td>1</td>\n",
       "      <td>3900000</td>\n",
       "      <td>financial</td>\n",
       "      <td>lost / stolen device</td>\n",
       "      <td>3900000</td>\n",
       "      <td>300</td>\n",
       "      <td>http://www.nytimes.com/2005/06/07/business/07d...</td>\n",
       "      <td>2005</td>\n",
       "    </tr>\n",
       "  </tbody>\n",
       "</table>\n",
       "</div>"
      ],
      "text/plain": [
       "                      entity  \\\n",
       "1                        AOL   \n",
       "2  Automatic Data Processing   \n",
       "3            Ameritrade Inc.   \n",
       "4                  Citigroup   \n",
       "\n",
       "                                             altName  \\\n",
       "1                                    American Online   \n",
       "2           Business outsourcing, payrolls, benefits   \n",
       "3  Computer backup tape containing personal infor...   \n",
       "4                                                NaN   \n",
       "\n",
       "                                               story yearIndex recordsLost  \\\n",
       "1  A former America Online software engineer stol...         0    92000000   \n",
       "2                                                NaN         1      125000   \n",
       "3                                      online broker         1      200000   \n",
       "4  Blame the messenger! A box of computer tapes c...         1     3900000   \n",
       "\n",
       "     orgType            leakMethod recordsStolen dataSensitivity  \\\n",
       "1        web            inside job      92000000               1   \n",
       "2  financial         poor security        130000              20   \n",
       "3  financial  lost / stolen device        200000              20   \n",
       "4  financial  lost / stolen device       3900000             300   \n",
       "\n",
       "                                          sourceLink yearOfBreach  \n",
       "1  http://money.cnn.com/2004/06/23/technology/aol...         2004  \n",
       "2  http://abcnews.go.com/Technology/story?id=2160...         2005  \n",
       "3                 http://www.nbcnews.com/id/7561268/         2005  \n",
       "4  http://www.nytimes.com/2005/06/07/business/07d...         2005  "
      ]
     },
     "execution_count": 58,
     "metadata": {},
     "output_type": "execute_result"
    }
   ],
   "source": [
    "df3.head(4)"
   ]
  },
  {
   "cell_type": "markdown",
   "metadata": {},
   "source": [
    "## Write Dataframe to \".csv\" file for import into Tableau"
   ]
  },
  {
   "cell_type": "code",
   "execution_count": 84,
   "metadata": {
    "ExecuteTime": {
     "end_time": "2017-09-24T22:41:56.688825Z",
     "start_time": "2017-09-24T22:41:56.666852Z"
    }
   },
   "outputs": [],
   "source": [
    "df3.to_csv('CleanData.csv')"
   ]
  }
 ],
 "metadata": {
  "kernelspec": {
   "display_name": "Python 3",
   "language": "python",
   "name": "python3"
  },
  "language_info": {
   "codemirror_mode": {
    "name": "ipython",
    "version": 3
   },
   "file_extension": ".py",
   "mimetype": "text/x-python",
   "name": "python",
   "nbconvert_exporter": "python",
   "pygments_lexer": "ipython3",
   "version": "3.6.2"
  },
  "toc": {
   "nav_menu": {},
   "number_sections": true,
   "sideBar": true,
   "skip_h1_title": false,
   "toc_cell": false,
   "toc_position": {},
   "toc_section_display": "block",
   "toc_window_display": false
  },
  "varInspector": {
   "cols": {
    "lenName": 16,
    "lenType": 16,
    "lenVar": 40
   },
   "kernels_config": {
    "python": {
     "delete_cmd_postfix": "",
     "delete_cmd_prefix": "del ",
     "library": "var_list.py",
     "varRefreshCmd": "print(var_dic_list())"
    },
    "r": {
     "delete_cmd_postfix": ") ",
     "delete_cmd_prefix": "rm(",
     "library": "var_list.r",
     "varRefreshCmd": "cat(var_dic_list()) "
    }
   },
   "types_to_exclude": [
    "module",
    "function",
    "builtin_function_or_method",
    "instance",
    "_Feature"
   ],
   "window_display": false
  }
 },
 "nbformat": 4,
 "nbformat_minor": 2
}
