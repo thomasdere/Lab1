{
 "cells": [
  {
   "cell_type": "markdown",
   "metadata": {},
   "source": [
    "# Welcome to Lab Session 1 - Derek Thomas - 23Sep2017"
   ]
  },
  {
   "cell_type": "markdown",
   "metadata": {},
   "source": [
    "## Define the environment for the Dataframe"
   ]
  },
  {
   "cell_type": "code",
   "execution_count": 2,
   "metadata": {
    "ExecuteTime": {
     "end_time": "2017-09-23T16:57:45.694625Z",
     "start_time": "2017-09-23T16:57:41.580210Z"
    }
   },
   "outputs": [],
   "source": [
    "import pandas as pd"
   ]
  },
  {
   "cell_type": "markdown",
   "metadata": {
    "ExecuteTime": {
     "end_time": "2017-09-23T13:35:42.618725Z",
     "start_time": "2017-09-23T13:35:42.615218Z"
    }
   },
   "source": [
    "## Import the Dataframe"
   ]
  },
  {
   "cell_type": "code",
   "execution_count": 20,
   "metadata": {
    "ExecuteTime": {
     "end_time": "2017-09-23T17:53:23.634462Z",
     "start_time": "2017-09-23T17:53:23.314911Z"
    }
   },
   "outputs": [],
   "source": [
    "df = pd.read_excel('Information is Beautiful_ Data Breaches (public).xlsx')"
   ]
  },
  {
   "cell_type": "code",
   "execution_count": 21,
   "metadata": {
    "ExecuteTime": {
     "end_time": "2017-09-23T17:54:37.214224Z",
     "start_time": "2017-09-23T17:54:37.159827Z"
    }
   },
   "outputs": [
    {
     "data": {
      "text/html": [
       "<div>\n",
       "<style>\n",
       "    .dataframe thead tr:only-child th {\n",
       "        text-align: right;\n",
       "    }\n",
       "\n",
       "    .dataframe thead th {\n",
       "        text-align: left;\n",
       "    }\n",
       "\n",
       "    .dataframe tbody tr th {\n",
       "        vertical-align: top;\n",
       "    }\n",
       "</style>\n",
       "<table border=\"1\" class=\"dataframe\">\n",
       "  <thead>\n",
       "    <tr style=\"text-align: right;\">\n",
       "      <th></th>\n",
       "      <th>Entity</th>\n",
       "      <th>alternative name</th>\n",
       "      <th>story</th>\n",
       "      <th>YEAR</th>\n",
       "      <th>records lost</th>\n",
       "      <th>ORGANISATION</th>\n",
       "      <th>METHOD OF LEAK</th>\n",
       "      <th>interesting story</th>\n",
       "      <th>NO OF RECORDS STOLEN</th>\n",
       "      <th>DATA SENSITIVITY</th>\n",
       "      <th>UNUSED</th>\n",
       "      <th>UNUSED.1</th>\n",
       "      <th>Exclude</th>\n",
       "      <th>Unnamed: 13</th>\n",
       "      <th>1st source link</th>\n",
       "      <th>2nd source link</th>\n",
       "      <th>3rd source</th>\n",
       "      <th>source name</th>\n",
       "    </tr>\n",
       "  </thead>\n",
       "  <tbody>\n",
       "    <tr>\n",
       "      <th>0</th>\n",
       "      <td>NaN</td>\n",
       "      <td>NaN</td>\n",
       "      <td>Elaboration if there's an interesting story or...</td>\n",
       "      <td>years are encoded (0=2004, 8 = 2012, 9 = 2013,...</td>\n",
       "      <td>(use 3m, 4m, 5m or 10m to approximate unknown ...</td>\n",
       "      <td>NaN</td>\n",
       "      <td>NaN</td>\n",
       "      <td>NaN</td>\n",
       "      <td>(use 3m, 4m, 5m or 10m to approximate unknown ...</td>\n",
       "      <td>1. Just email address/Online information 20 SS...</td>\n",
       "      <td>NaN</td>\n",
       "      <td>NaN</td>\n",
       "      <td>Show this item in the viz?</td>\n",
       "      <td>NaN</td>\n",
       "      <td>NaN</td>\n",
       "      <td>NaN</td>\n",
       "      <td>NaN</td>\n",
       "      <td>NaN</td>\n",
       "    </tr>\n",
       "    <tr>\n",
       "      <th>1</th>\n",
       "      <td>AOL</td>\n",
       "      <td>American Online</td>\n",
       "      <td>A former America Online software engineer stol...</td>\n",
       "      <td>0</td>\n",
       "      <td>92000000</td>\n",
       "      <td>web</td>\n",
       "      <td>inside job</td>\n",
       "      <td>NaN</td>\n",
       "      <td>92000000</td>\n",
       "      <td>1</td>\n",
       "      <td>NaN</td>\n",
       "      <td>NaN</td>\n",
       "      <td>NaN</td>\n",
       "      <td>NaN</td>\n",
       "      <td>http://money.cnn.com/2004/06/23/technology/aol...</td>\n",
       "      <td>http://www.msnbc.msn.com/id/8985989/#.UFcN8RgUwaA</td>\n",
       "      <td>NaN</td>\n",
       "      <td>CNN</td>\n",
       "    </tr>\n",
       "    <tr>\n",
       "      <th>2</th>\n",
       "      <td>Automatic Data Processing</td>\n",
       "      <td>Business outsourcing, payrolls, benefits</td>\n",
       "      <td>NaN</td>\n",
       "      <td>1</td>\n",
       "      <td>125000</td>\n",
       "      <td>financial</td>\n",
       "      <td>poor security</td>\n",
       "      <td>NaN</td>\n",
       "      <td>130000</td>\n",
       "      <td>20</td>\n",
       "      <td>NaN</td>\n",
       "      <td>NaN</td>\n",
       "      <td>NaN</td>\n",
       "      <td>NaN</td>\n",
       "      <td>http://abcnews.go.com/Technology/story?id=2160...</td>\n",
       "      <td>NaN</td>\n",
       "      <td>NaN</td>\n",
       "      <td>ABC</td>\n",
       "    </tr>\n",
       "    <tr>\n",
       "      <th>3</th>\n",
       "      <td>Ameritrade Inc.</td>\n",
       "      <td>Computer backup tape containing personal infor...</td>\n",
       "      <td>online broker</td>\n",
       "      <td>1</td>\n",
       "      <td>200000</td>\n",
       "      <td>financial</td>\n",
       "      <td>lost / stolen device</td>\n",
       "      <td>NaN</td>\n",
       "      <td>200000</td>\n",
       "      <td>20</td>\n",
       "      <td>NaN</td>\n",
       "      <td>NaN</td>\n",
       "      <td>NaN</td>\n",
       "      <td>NaN</td>\n",
       "      <td>http://www.nbcnews.com/id/7561268/</td>\n",
       "      <td>NaN</td>\n",
       "      <td>NaN</td>\n",
       "      <td>NaN</td>\n",
       "    </tr>\n",
       "    <tr>\n",
       "      <th>4</th>\n",
       "      <td>Citigroup</td>\n",
       "      <td>NaN</td>\n",
       "      <td>Blame the messenger! A box of computer tapes c...</td>\n",
       "      <td>1</td>\n",
       "      <td>3900000</td>\n",
       "      <td>financial</td>\n",
       "      <td>lost / stolen device</td>\n",
       "      <td>y</td>\n",
       "      <td>3900000</td>\n",
       "      <td>300</td>\n",
       "      <td>NaN</td>\n",
       "      <td>NaN</td>\n",
       "      <td>NaN</td>\n",
       "      <td>NaN</td>\n",
       "      <td>http://www.nytimes.com/2005/06/07/business/07d...</td>\n",
       "      <td>NaN</td>\n",
       "      <td>NaN</td>\n",
       "      <td>NY Times</td>\n",
       "    </tr>\n",
       "  </tbody>\n",
       "</table>\n",
       "</div>"
      ],
      "text/plain": [
       "                      Entity  \\\n",
       "0                        NaN   \n",
       "1                        AOL   \n",
       "2  Automatic Data Processing   \n",
       "3            Ameritrade Inc.   \n",
       "4                  Citigroup   \n",
       "\n",
       "                                    alternative name  \\\n",
       "0                                                NaN   \n",
       "1                                    American Online   \n",
       "2           Business outsourcing, payrolls, benefits   \n",
       "3  Computer backup tape containing personal infor...   \n",
       "4                                                NaN   \n",
       "\n",
       "                                               story  \\\n",
       "0  Elaboration if there's an interesting story or...   \n",
       "1  A former America Online software engineer stol...   \n",
       "2                                                NaN   \n",
       "3                                      online broker   \n",
       "4  Blame the messenger! A box of computer tapes c...   \n",
       "\n",
       "                                                YEAR  \\\n",
       "0  years are encoded (0=2004, 8 = 2012, 9 = 2013,...   \n",
       "1                                                  0   \n",
       "2                                                  1   \n",
       "3                                                  1   \n",
       "4                                                  1   \n",
       "\n",
       "                                        records lost ORGANISATION  \\\n",
       "0  (use 3m, 4m, 5m or 10m to approximate unknown ...          NaN   \n",
       "1                                           92000000          web   \n",
       "2                                             125000    financial   \n",
       "3                                             200000    financial   \n",
       "4                                            3900000    financial   \n",
       "\n",
       "         METHOD OF LEAK interesting story  \\\n",
       "0                   NaN               NaN   \n",
       "1            inside job               NaN   \n",
       "2         poor security               NaN   \n",
       "3  lost / stolen device               NaN   \n",
       "4  lost / stolen device                 y   \n",
       "\n",
       "                                NO OF RECORDS STOLEN  \\\n",
       "0  (use 3m, 4m, 5m or 10m to approximate unknown ...   \n",
       "1                                           92000000   \n",
       "2                                             130000   \n",
       "3                                             200000   \n",
       "4                                            3900000   \n",
       "\n",
       "                                    DATA SENSITIVITY  UNUSED  UNUSED.1  \\\n",
       "0  1. Just email address/Online information 20 SS...     NaN       NaN   \n",
       "1                                                  1     NaN       NaN   \n",
       "2                                                 20     NaN       NaN   \n",
       "3                                                 20     NaN       NaN   \n",
       "4                                                300     NaN       NaN   \n",
       "\n",
       "                      Exclude Unnamed: 13  \\\n",
       "0  Show this item in the viz?         NaN   \n",
       "1                         NaN         NaN   \n",
       "2                         NaN         NaN   \n",
       "3                         NaN         NaN   \n",
       "4                         NaN         NaN   \n",
       "\n",
       "                                     1st source link  \\\n",
       "0                                                NaN   \n",
       "1  http://money.cnn.com/2004/06/23/technology/aol...   \n",
       "2  http://abcnews.go.com/Technology/story?id=2160...   \n",
       "3                 http://www.nbcnews.com/id/7561268/   \n",
       "4  http://www.nytimes.com/2005/06/07/business/07d...   \n",
       "\n",
       "                                     2nd source link 3rd source source name  \n",
       "0                                                NaN        NaN         NaN  \n",
       "1  http://www.msnbc.msn.com/id/8985989/#.UFcN8RgUwaA        NaN         CNN  \n",
       "2                                                NaN        NaN         ABC  \n",
       "3                                                NaN        NaN         NaN  \n",
       "4                                                NaN        NaN    NY Times  "
      ]
     },
     "execution_count": 21,
     "metadata": {},
     "output_type": "execute_result"
    }
   ],
   "source": [
    "df.head(5)"
   ]
  },
  {
   "cell_type": "markdown",
   "metadata": {},
   "source": [
    "## Cleanse the Data"
   ]
  },
  {
   "cell_type": "code",
   "execution_count": null,
   "metadata": {},
   "outputs": [],
   "source": []
  },
  {
   "cell_type": "markdown",
   "metadata": {},
   "source": [
    "## Transfer to Tableau"
   ]
  },
  {
   "cell_type": "code",
   "execution_count": null,
   "metadata": {},
   "outputs": [],
   "source": []
  }
 ],
 "metadata": {
  "kernelspec": {
   "display_name": "Python 3",
   "language": "python",
   "name": "python3"
  },
  "language_info": {
   "codemirror_mode": {
    "name": "ipython",
    "version": 3
   },
   "file_extension": ".py",
   "mimetype": "text/x-python",
   "name": "python",
   "nbconvert_exporter": "python",
   "pygments_lexer": "ipython3",
   "version": "3.6.2"
  },
  "toc": {
   "nav_menu": {},
   "number_sections": true,
   "sideBar": true,
   "skip_h1_title": false,
   "toc_cell": false,
   "toc_position": {},
   "toc_section_display": "block",
   "toc_window_display": false
  },
  "varInspector": {
   "cols": {
    "lenName": 16,
    "lenType": 16,
    "lenVar": 40
   },
   "kernels_config": {
    "python": {
     "delete_cmd_postfix": "",
     "delete_cmd_prefix": "del ",
     "library": "var_list.py",
     "varRefreshCmd": "print(var_dic_list())"
    },
    "r": {
     "delete_cmd_postfix": ") ",
     "delete_cmd_prefix": "rm(",
     "library": "var_list.r",
     "varRefreshCmd": "cat(var_dic_list()) "
    }
   },
   "types_to_exclude": [
    "module",
    "function",
    "builtin_function_or_method",
    "instance",
    "_Feature"
   ],
   "window_display": false
  }
 },
 "nbformat": 4,
 "nbformat_minor": 2
}
